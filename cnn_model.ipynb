{
 "cells": [
  {
   "cell_type": "code",
   "execution_count": 2,
   "metadata": {},
   "outputs": [],
   "source": [
    "import numpy as np\n",
    "data=np.load('C:/Users/hp/data.npy')\n",
    "target=np.load('C:/Users/hp/target.npy')\n",
    "\n",
    "#loading the save numpy arrays in the previous code"
   ]
  },
  {
   "cell_type": "code",
   "execution_count": 3,
   "metadata": {},
   "outputs": [
    {
     "name": "stderr",
     "output_type": "stream",
     "text": [
      "Using TensorFlow backend.\n",
      "C:\\Users\\hp\\Anaconda3\\lib\\site-packages\\tensorflow\\python\\framework\\dtypes.py:526: FutureWarning: Passing (type, 1) or '1type' as a synonym of type is deprecated; in a future version of numpy, it will be understood as (type, (1,)) / '(1,)type'.\n",
      "  _np_qint8 = np.dtype([(\"qint8\", np.int8, 1)])\n",
      "C:\\Users\\hp\\Anaconda3\\lib\\site-packages\\tensorflow\\python\\framework\\dtypes.py:527: FutureWarning: Passing (type, 1) or '1type' as a synonym of type is deprecated; in a future version of numpy, it will be understood as (type, (1,)) / '(1,)type'.\n",
      "  _np_quint8 = np.dtype([(\"quint8\", np.uint8, 1)])\n",
      "C:\\Users\\hp\\Anaconda3\\lib\\site-packages\\tensorflow\\python\\framework\\dtypes.py:528: FutureWarning: Passing (type, 1) or '1type' as a synonym of type is deprecated; in a future version of numpy, it will be understood as (type, (1,)) / '(1,)type'.\n",
      "  _np_qint16 = np.dtype([(\"qint16\", np.int16, 1)])\n",
      "C:\\Users\\hp\\Anaconda3\\lib\\site-packages\\tensorflow\\python\\framework\\dtypes.py:529: FutureWarning: Passing (type, 1) or '1type' as a synonym of type is deprecated; in a future version of numpy, it will be understood as (type, (1,)) / '(1,)type'.\n",
      "  _np_quint16 = np.dtype([(\"quint16\", np.uint16, 1)])\n",
      "C:\\Users\\hp\\Anaconda3\\lib\\site-packages\\tensorflow\\python\\framework\\dtypes.py:530: FutureWarning: Passing (type, 1) or '1type' as a synonym of type is deprecated; in a future version of numpy, it will be understood as (type, (1,)) / '(1,)type'.\n",
      "  _np_qint32 = np.dtype([(\"qint32\", np.int32, 1)])\n",
      "C:\\Users\\hp\\Anaconda3\\lib\\site-packages\\tensorflow\\python\\framework\\dtypes.py:535: FutureWarning: Passing (type, 1) or '1type' as a synonym of type is deprecated; in a future version of numpy, it will be understood as (type, (1,)) / '(1,)type'.\n",
      "  np_resource = np.dtype([(\"resource\", np.ubyte, 1)])\n"
     ]
    },
    {
     "name": "stdout",
     "output_type": "stream",
     "text": [
      "WARNING:tensorflow:From C:\\Users\\hp\\Anaconda3\\lib\\site-packages\\tensorflow\\python\\ops\\resource_variable_ops.py:435: colocate_with (from tensorflow.python.framework.ops) is deprecated and will be removed in a future version.\n",
      "Instructions for updating:\n",
      "Colocations handled automatically by placer.\n"
     ]
    }
   ],
   "source": [
    "from keras.models import Sequential\n",
    "from keras.layers import Dense,Activation,Flatten,Dropout\n",
    "from keras.layers import Conv2D,MaxPooling2D\n",
    "from keras.callbacks import ModelCheckpoint\n",
    "\n",
    "model=Sequential()\n",
    "\n",
    "model.add(Conv2D(200,(3,3),input_shape=data.shape[1:]))\n",
    "model.add(Activation('relu'))\n",
    "model.add(MaxPooling2D(pool_size=(2,2)))\n",
    "#The first CNN layer followed by Relu and MaxPooling layers\n",
    "\n",
    "model.add(Conv2D(100,(3,3)))\n",
    "model.add(Activation('relu'))\n",
    "model.add(MaxPooling2D(pool_size=(2,2)))\n",
    "#The second convolution layer followed by Relu and MaxPooling layers\n",
    "\n",
    "model.add(Flatten())\n",
    "model.add(Dropout(0.5))\n",
    "#Flatten layer to stack the output convolutions from second convolution layer\n",
    "model.add(Dense(50,activation='relu'))\n",
    "#Dense layer of 64 neurons\n",
    "model.add(Dense(2,activation='softmax'))\n",
    "#The Final layer with two outputs for two categories\n",
    "\n",
    "model.compile(loss='categorical_crossentropy',optimizer='adam',metrics=['accuracy'])"
   ]
  },
  {
   "cell_type": "code",
   "execution_count": 4,
   "metadata": {},
   "outputs": [],
   "source": [
    "from sklearn.model_selection import train_test_split\n",
    "\n",
    "train_data,test_data,train_target,test_target=train_test_split(data,target,test_size=0.1)"
   ]
  },
  {
   "cell_type": "code",
   "execution_count": 5,
   "metadata": {},
   "outputs": [
    {
     "name": "stdout",
     "output_type": "stream",
     "text": [
      "WARNING:tensorflow:From C:\\Users\\hp\\Anaconda3\\lib\\site-packages\\tensorflow\\python\\ops\\math_ops.py:3066: to_int32 (from tensorflow.python.ops.math_ops) is deprecated and will be removed in a future version.\n",
      "Instructions for updating:\n",
      "Use tf.cast instead.\n",
      "Train on 990 samples, validate on 248 samples\n",
      "Epoch 1/20\n",
      "990/990 [==============================] - 97s 98ms/step - loss: 0.7278 - accuracy: 0.5364 - val_loss: 0.6657 - val_accuracy: 0.5645\n",
      "Epoch 2/20\n",
      "990/990 [==============================] - 86s 87ms/step - loss: 0.6060 - accuracy: 0.6596 - val_loss: 0.5283 - val_accuracy: 0.7944\n",
      "Epoch 3/20\n",
      "990/990 [==============================] - 86s 87ms/step - loss: 0.4556 - accuracy: 0.7808 - val_loss: 0.3300 - val_accuracy: 0.9032\n",
      "Epoch 4/20\n",
      "990/990 [==============================] - 86s 87ms/step - loss: 0.3340 - accuracy: 0.8717 - val_loss: 0.3065 - val_accuracy: 0.9032\n",
      "Epoch 5/20\n",
      "990/990 [==============================] - 86s 87ms/step - loss: 0.2316 - accuracy: 0.9162 - val_loss: 0.1910 - val_accuracy: 0.9476\n",
      "Epoch 6/20\n",
      "990/990 [==============================] - 86s 87ms/step - loss: 0.1989 - accuracy: 0.9293 - val_loss: 0.1562 - val_accuracy: 0.9435\n",
      "Epoch 7/20\n",
      "990/990 [==============================] - 87s 87ms/step - loss: 0.1445 - accuracy: 0.9556 - val_loss: 0.1646 - val_accuracy: 0.9556\n",
      "Epoch 8/20\n",
      "990/990 [==============================] - 86s 87ms/step - loss: 0.1281 - accuracy: 0.9535 - val_loss: 0.1222 - val_accuracy: 0.9556\n",
      "Epoch 9/20\n",
      "990/990 [==============================] - 86s 87ms/step - loss: 0.1020 - accuracy: 0.9697 - val_loss: 0.1218 - val_accuracy: 0.9476\n",
      "Epoch 10/20\n",
      "990/990 [==============================] - 87s 88ms/step - loss: 0.0921 - accuracy: 0.9707 - val_loss: 0.1261 - val_accuracy: 0.9556\n",
      "Epoch 11/20\n",
      "990/990 [==============================] - 87s 87ms/step - loss: 0.0881 - accuracy: 0.9717 - val_loss: 0.1808 - val_accuracy: 0.9315\n",
      "Epoch 12/20\n",
      "990/990 [==============================] - 86s 87ms/step - loss: 0.0819 - accuracy: 0.9747 - val_loss: 0.1200 - val_accuracy: 0.9677\n",
      "Epoch 13/20\n",
      "990/990 [==============================] - 86s 87ms/step - loss: 0.0615 - accuracy: 0.9788 - val_loss: 0.1429 - val_accuracy: 0.9476\n",
      "Epoch 14/20\n",
      "990/990 [==============================] - 84s 85ms/step - loss: 0.0756 - accuracy: 0.9717 - val_loss: 0.1108 - val_accuracy: 0.9556\n",
      "Epoch 15/20\n",
      "990/990 [==============================] - 88s 89ms/step - loss: 0.0508 - accuracy: 0.9758 - val_loss: 0.0973 - val_accuracy: 0.9718\n",
      "Epoch 16/20\n",
      "990/990 [==============================] - 86s 87ms/step - loss: 0.0513 - accuracy: 0.9808 - val_loss: 0.0890 - val_accuracy: 0.9677\n",
      "Epoch 17/20\n",
      "990/990 [==============================] - 90s 91ms/step - loss: 0.0537 - accuracy: 0.9778 - val_loss: 0.0774 - val_accuracy: 0.9718\n",
      "Epoch 18/20\n",
      "990/990 [==============================] - 89s 90ms/step - loss: 0.0323 - accuracy: 0.9889 - val_loss: 0.0947 - val_accuracy: 0.9718\n",
      "Epoch 19/20\n",
      "990/990 [==============================] - 88s 89ms/step - loss: 0.0212 - accuracy: 0.9909 - val_loss: 0.0912 - val_accuracy: 0.9758\n",
      "Epoch 20/20\n",
      "990/990 [==============================] - 89s 89ms/step - loss: 0.0324 - accuracy: 0.9848 - val_loss: 0.0894 - val_accuracy: 0.9798\n"
     ]
    }
   ],
   "source": [
    "checkpoint = ModelCheckpoint('model-{epoch:03d}.model',monitor='val_loss',verbose=0,save_best_only=True,mode='auto')\n",
    "history=model.fit(train_data,train_target,epochs=20,callbacks=[checkpoint],validation_split=0.2)"
   ]
  },
  {
   "cell_type": "code",
   "execution_count": 6,
   "metadata": {},
   "outputs": [
    {
     "data": {
      "text/plain": [
       "<Figure size 640x480 with 1 Axes>"
      ]
     },
     "metadata": {},
     "output_type": "display_data"
    }
   ],
   "source": [
    "\n",
    "from matplotlib import pyplot as plt\n",
    "\n",
    "plt.plot(history.history['loss'],'r',label='training loss')\n",
    "plt.plot(history.history['val_loss'],label='validation loss')\n",
    "plt.xlabel('# epochs')\n",
    "plt.ylabel('loss')\n",
    "plt.legend()\n",
    "plt.show()\n"
   ]
  },
  {
   "cell_type": "code",
   "execution_count": 7,
   "metadata": {},
   "outputs": [
    {
     "data": {
      "image/png": "[encoded data removed]",
      "text/plain": [
       "<Figure size 432x288 with 1 Axes>"
      ]
     },
     "metadata": {
      "needs_background": "light"
     },
     "output_type": "display_data"
    }
   ],
   "source": [
    "plt.plot(history.history['accuracy'],'r',label='training accuracy')\n",
    "plt.plot(history.history['val_accuracy'],label='validation accuracy')\n",
    "plt.xlabel('# epochs')\n",
    "plt.ylabel('loss')\n",
    "plt.legend()\n",
    "plt.show()"
   ]
  },
  {
   "cell_type": "code",
   "execution_count": 8,
   "metadata": {},
   "outputs": [
    {
     "name": "stdout",
     "output_type": "stream",
     "text": [
      "138/138 [==============================] - 4s 28ms/step\n",
      "[0.17617305690773588, 0.9637681245803833]\n"
     ]
    }
   ],
   "source": [
    "print(model.evaluate(test_data,test_target))"
   ]
  },
  {
   "cell_type": "code",
   "execution_count": null,
   "metadata": {},
   "outputs": [],
   "source": []
  }
 ],
 "metadata": {
  "kernelspec": {
   "display_name": "Python 3",
   "language": "python",
   "name": "python3"
  },
  "language_info": {
   "codemirror_mode": {
    "name": "ipython",
    "version": 3
   },
   "file_extension": ".py",
   "mimetype": "text/x-python",
   "name": "python",
   "nbconvert_exporter": "python",
   "pygments_lexer": "ipython3",
   "version": "3.7.0"
  }
 },
 "nbformat": 4,
 "nbformat_minor": 2
}
